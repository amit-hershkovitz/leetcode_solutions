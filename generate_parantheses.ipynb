{
 "cells": [
  {
   "cell_type": "code",
   "execution_count": 26,
   "id": "4223dc5a-7173-49e9-b741-603b0396b7ec",
   "metadata": {},
   "outputs": [],
   "source": [
    "from typing import List"
   ]
  },
  {
   "cell_type": "markdown",
   "id": "822fb114-c286-48b3-b53d-d5087b8b3062",
   "metadata": {},
   "source": [
    "# Generate Parantheses"
   ]
  },
  {
   "cell_type": "markdown",
   "id": "e240ed22-48f3-4002-93d5-a783ae8457ff",
   "metadata": {},
   "source": [
    "### Problem Statement"
   ]
  },
  {
   "cell_type": "markdown",
   "id": "a54ac9e8-a6fd-45f6-bfaa-b47bc89040bc",
   "metadata": {},
   "source": [
    "Given `n` pairs of parentheses, write a function `generateParenthesis(self, n: int) -> List[str]` to generate all combinations of well-formed parentheses."
   ]
  },
  {
   "cell_type": "markdown",
   "id": "ff3afb53-ccb2-4b98-b3d4-7da38b3f70ce",
   "metadata": {},
   "source": [
    "**Example 1**: `generateParantheses(n=3)` -> `[\"((()))\",\"(()())\",\"(())()\",\"()(())\",\"()()()\"]`"
   ]
  },
  {
   "cell_type": "markdown",
   "id": "7f400d38-997d-4010-894a-e6184ac6405e",
   "metadata": {},
   "source": [
    "**Example 2**: `generateParantheses(n=1)` -> `[\"()\"]`"
   ]
  },
  {
   "cell_type": "markdown",
   "id": "c6237544-d4ac-411e-aee6-d83b2271f3e6",
   "metadata": {},
   "source": [
    "### Solution"
   ]
  },
  {
   "cell_type": "code",
   "execution_count": 27,
   "id": "8aca99c0-891b-4053-9d5c-976eb32a7dab",
   "metadata": {},
   "outputs": [],
   "source": [
    "class Solution:\n",
    "    def generateParenthesis(self, n: int) -> List[str]:\n",
    "        root = '('\n",
    "        n_left = n-1\n",
    "        n_right = 1\n",
    "\n",
    "        return Solution.next_open(root, n_left, n_right)\n",
    "\n",
    "    def next_open(current, n_left, n_right):\n",
    "        if n_left == 0:\n",
    "            return [current + n_right * ')', ]\n",
    "\n",
    "        next_combs = []\n",
    "\n",
    "        if n_left > 0:\n",
    "            next_combs += Solution.next_open(current + '(', n_left-1, n_right+1)\n",
    "        \n",
    "        if n_right > 0:\n",
    "            next_combs += Solution.next_open(current + ')', n_left, n_right-1)\n",
    "        \n",
    "        return next_combs\n"
   ]
  },
  {
   "cell_type": "code",
   "execution_count": 28,
   "id": "40fcbdc8-2b06-436e-be45-87bc63373979",
   "metadata": {},
   "outputs": [],
   "source": [
    "def test_solution_for_example1():\n",
    "    solver = Solution()\n",
    "    solution = solver.generateParenthesis(n=3)\n",
    "    assert set(solution) == set([\"((()))\",\"(()())\",\"(())()\",\"()(())\",\"()()()\"]), f\"Expected {set(['((()))','(()())','(())()','()(())','()()()'])}, but got {set(solution)}.\""
   ]
  },
  {
   "cell_type": "code",
   "execution_count": 29,
   "id": "58d51e86-39e5-434e-9667-f75bfdfc97b6",
   "metadata": {},
   "outputs": [],
   "source": [
    "def test_solution_for_example2():\n",
    "    solver = Solution()\n",
    "    solution = solver.generateParenthesis(n=1)\n",
    "    assert set(solution) == set(['()']), f\"Expected {set(['()'])}, but got {set(solution)}.\""
   ]
  },
  {
   "cell_type": "code",
   "execution_count": 30,
   "id": "f22eedc6-86dc-44ee-a146-f2b9d55416d1",
   "metadata": {},
   "outputs": [
    {
     "name": "stdout",
     "output_type": "stream",
     "text": [
      "All test passed!\n"
     ]
    }
   ],
   "source": [
    "test_solution_for_example1()\n",
    "test_solution_for_example2()\n",
    "print('All tests passed!')"
   ]
  }
 ],
 "metadata": {
  "kernelspec": {
   "display_name": "Python 3 (ipykernel)",
   "language": "python",
   "name": "python3"
  },
  "language_info": {
   "codemirror_mode": {
    "name": "ipython",
    "version": 3
   },
   "file_extension": ".py",
   "mimetype": "text/x-python",
   "name": "python",
   "nbconvert_exporter": "python",
   "pygments_lexer": "ipython3",
   "version": "3.11.5"
  }
 },
 "nbformat": 4,
 "nbformat_minor": 5
}
